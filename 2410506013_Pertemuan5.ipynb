{
  "nbformat": 4,
  "nbformat_minor": 0,
  "metadata": {
    "colab": {
      "provenance": [],
      "authorship_tag": "ABX9TyMOmsqaIxDdV7d8mfmCBDpV",
      "include_colab_link": true
    },
    "kernelspec": {
      "name": "python3",
      "display_name": "Python 3"
    },
    "language_info": {
      "name": "python"
    }
  },
  "cells": [
    {
      "cell_type": "markdown",
      "metadata": {
        "id": "view-in-github",
        "colab_type": "text"
      },
      "source": [
        "<a href=\"https://colab.research.google.com/github/Septianadaw/Praktikum-Big-Data/blob/main/2410506013_Pertemuan5.ipynb\" target=\"_parent\"><img src=\"https://colab.research.google.com/assets/colab-badge.svg\" alt=\"Open In Colab\"/></a>"
      ]
    },
    {
      "cell_type": "code",
      "execution_count": 4,
      "metadata": {
        "colab": {
          "base_uri": "https://localhost:8080/"
        },
        "id": "Fr_cEzKK2Hu8",
        "outputId": "e7e97af6-82c1-4bd6-8252-7296acced7c3"
      },
      "outputs": [
        {
          "output_type": "stream",
          "name": "stdout",
          "text": [
            "Hasil Map: [('halo', 1), ('dunia', 1), ('halo', 1), ('big', 1), ('data', 1), ('big', 1), ('data', 1), ('itu', 1), ('menarik', 1)]\n",
            "Hasil Reduce: {'halo': 2, 'dunia': 1, 'big': 2, 'data': 2, 'itu': 1, 'menarik': 1}\n"
          ]
        }
      ],
      "source": [
        "# Tugas 1\n",
        "from collections import defaultdict\n",
        "\n",
        "# Data input\n",
        "data = [\n",
        "    \"Halo dunia\",\n",
        "    \"Halo Big Data\",\n",
        "    \"Big Data itu menarik\"\n",
        "]\n",
        "\n",
        "# Map phase\n",
        "mapped = []\n",
        "for line in data:\n",
        "    for word in line.split():\n",
        "        mapped.append((word.lower(), 1))  # key-value pair\n",
        "\n",
        "# Shuffle phase (pengelompokan key)\n",
        "shuffled = defaultdict(list)\n",
        "for key, value in mapped:\n",
        "    shuffled[key].append(value)\n",
        "\n",
        "# Reduce phase\n",
        "reduced = {key: sum(values) for key, values in shuffled.items()}\n",
        "\n",
        "# Output\n",
        "print(\"Hasil Map:\", mapped)\n",
        "print(\"Hasil Reduce:\", reduced)"
      ]
    },
    {
      "cell_type": "code",
      "source": [
        "# Tugas 2\n",
        "from collections import defaultdict\n",
        "\n",
        "# Map function\n",
        "def map_function(text):\n",
        "    for word in text.split():\n",
        "        yield (word.lower(), 1)   # kata dijadikan lowercase biar konsisten\n",
        "\n",
        "# Reduce function\n",
        "def reduce_function(pairs):\n",
        "    result = defaultdict(int)\n",
        "    for word, count in pairs:\n",
        "        result[word] += count\n",
        "    return result\n",
        "\n",
        "# Dataset sederhana\n",
        "dataset = [\n",
        "    \"Halo dunia\",\n",
        "    \"Halo Big Data\",\n",
        "    \"Big Data itu menarik\"\n",
        "]\n",
        "\n",
        "# Jalankan MapReduce\n",
        "mapped = []\n",
        "for line in dataset:\n",
        "    mapped.extend(map_function(line))   # hasil fase Map\n",
        "\n",
        "reduced = reduce_function(mapped)       # hasil fase Reduce\n",
        "\n",
        "# Tampilkan hasil\n",
        "print(\"Hasil Map:\", mapped)\n",
        "print(\"Hasil Reduce (jumlah kata):\")\n",
        "for word, count in reduced.items():\n",
        "    print(word, \":\", count)"
      ],
      "metadata": {
        "colab": {
          "base_uri": "https://localhost:8080/"
        },
        "id": "JhSChBkT3vuV",
        "outputId": "6341b932-1294-45d0-8f7a-9f5e76fbb3b8"
      },
      "execution_count": 5,
      "outputs": [
        {
          "output_type": "stream",
          "name": "stdout",
          "text": [
            "Hasil Map: [('halo', 1), ('dunia', 1), ('halo', 1), ('big', 1), ('data', 1), ('big', 1), ('data', 1), ('itu', 1), ('menarik', 1)]\n",
            "Hasil Reduce (jumlah kata):\n",
            "halo : 2\n",
            "dunia : 1\n",
            "big : 2\n",
            "data : 2\n",
            "itu : 1\n",
            "menarik : 1\n"
          ]
        }
      ]
    }
  ]
}