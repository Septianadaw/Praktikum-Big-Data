{
  "nbformat": 4,
  "nbformat_minor": 0,
  "metadata": {
    "colab": {
      "provenance": [],
      "authorship_tag": "ABX9TyP24vbgJ42TC7wMJpZbD7at",
      "include_colab_link": true
    },
    "kernelspec": {
      "name": "python3",
      "display_name": "Python 3"
    },
    "language_info": {
      "name": "python"
    }
  },
  "cells": [
    {
      "cell_type": "markdown",
      "metadata": {
        "id": "view-in-github",
        "colab_type": "text"
      },
      "source": [
        "<a href=\"https://colab.research.google.com/github/Septianadaw/Praktikum-Big-Data/blob/main/2410506013_Pertemuan3.ipynb\" target=\"_parent\"><img src=\"https://colab.research.google.com/assets/colab-badge.svg\" alt=\"Open In Colab\"/></a>"
      ]
    },
    {
      "cell_type": "code",
      "source": [
        "# Tugas 1\n",
        "from pyspark.sql import SparkSession\n",
        "\n",
        "# Membuat Spark session\n",
        "spark = SparkSession.builder.appName(\"HandsOnPertemuan3_Tugas1\").getOrCreate()\n",
        "\n",
        "# Data sederhana\n",
        "data = [\n",
        "    ('Septiana', 'Direktur', 15000),\n",
        "    ('Diyah', 'Manajer', 10000),\n",
        "    ('Ayu', 'Wakil Direktur', 12000),\n",
        "    ('Wulandari', 'Sekretaris', 9000)\n",
        "]\n",
        "\n",
        "columns = ['EmployeeName', 'Department', 'Salary']\n",
        "\n",
        "# Membuat DataFrame\n",
        "df = spark.createDataFrame(data, schema=columns)\n",
        "\n",
        "# Menampilkan DataFrame\n",
        "df.show()\n",
        "\n",
        "# Eksplorasi fungsi dasar\n",
        "df.select(\"EmployeeName\").show()  # Menampilkan kolom tertentu"
      ],
      "metadata": {
        "colab": {
          "base_uri": "https://localhost:8080/"
        },
        "id": "QbvR1_5GyX3M",
        "outputId": "86889b92-be35-44e1-8b7e-3ca641f4b84b"
      },
      "execution_count": null,
      "outputs": [
        {
          "output_type": "stream",
          "name": "stdout",
          "text": [
            "+------------+--------------+------+\n",
            "|EmployeeName|    Department|Salary|\n",
            "+------------+--------------+------+\n",
            "|    Septiana|      Direktur| 15000|\n",
            "|       Diyah|       Manajer| 10000|\n",
            "|         Ayu|Wakil Direktur| 12000|\n",
            "|   Wulandari|    Sekretaris|  9000|\n",
            "+------------+--------------+------+\n",
            "\n",
            "+------------+\n",
            "|EmployeeName|\n",
            "+------------+\n",
            "|    Septiana|\n",
            "|       Diyah|\n",
            "|         Ayu|\n",
            "|   Wulandari|\n",
            "+------------+\n",
            "\n"
          ]
        }
      ]
    },
    {
      "cell_type": "code",
      "source": [
        "# Tugas 2 Operasi Transformasi Dasar\n",
        "\n",
        "# pilih kolom tertentu\n",
        "df.select(\"EmployeeName\", \"Salary\").show()\n",
        "\n",
        "# ambil karyawan dengan Salary > 3000\n",
        "df.filter(df[\"Salary\"] > 3000).show()\n",
        "\n",
        "# GroupBy + Aggregasi\n",
        "# Rata-rata gaji per departemen\n",
        "df.groupBy(\"Department\").avg(\"Salary\").show()\n",
        "\n",
        "# Gaji maksimum per departemen\n",
        "df.groupBy(\"Department\").max(\"Salary\").show()\n",
        "\n",
        "# Total gaji per departemen\n",
        "df.groupBy(\"Department\").sum(\"Salary\").show()"
      ],
      "metadata": {
        "colab": {
          "base_uri": "https://localhost:8080/"
        },
        "id": "TLtOgne9y32O",
        "outputId": "85ea3a5a-c7b8-496c-aef5-715b96516b58"
      },
      "execution_count": null,
      "outputs": [
        {
          "output_type": "stream",
          "name": "stdout",
          "text": [
            "+------------+------+\n",
            "|EmployeeName|Salary|\n",
            "+------------+------+\n",
            "|    Septiana| 15000|\n",
            "|       Diyah| 10000|\n",
            "|         Ayu| 12000|\n",
            "|   Wulandari|  9000|\n",
            "+------------+------+\n",
            "\n",
            "+------------+--------------+------+\n",
            "|EmployeeName|    Department|Salary|\n",
            "+------------+--------------+------+\n",
            "|    Septiana|      Direktur| 15000|\n",
            "|       Diyah|       Manajer| 10000|\n",
            "|         Ayu|Wakil Direktur| 12000|\n",
            "|   Wulandari|    Sekretaris|  9000|\n",
            "+------------+--------------+------+\n",
            "\n",
            "+--------------+-----------+\n",
            "|    Department|avg(Salary)|\n",
            "+--------------+-----------+\n",
            "|      Direktur|    15000.0|\n",
            "|       Manajer|    10000.0|\n",
            "|Wakil Direktur|    12000.0|\n",
            "|    Sekretaris|     9000.0|\n",
            "+--------------+-----------+\n",
            "\n",
            "+--------------+-----------+\n",
            "|    Department|max(Salary)|\n",
            "+--------------+-----------+\n",
            "|      Direktur|      15000|\n",
            "|       Manajer|      10000|\n",
            "|Wakil Direktur|      12000|\n",
            "|    Sekretaris|       9000|\n",
            "+--------------+-----------+\n",
            "\n",
            "+--------------+-----------+\n",
            "|    Department|sum(Salary)|\n",
            "+--------------+-----------+\n",
            "|      Direktur|      15000|\n",
            "|       Manajer|      10000|\n",
            "|Wakil Direktur|      12000|\n",
            "|    Sekretaris|       9000|\n",
            "+--------------+-----------+\n",
            "\n"
          ]
        }
      ]
    },
    {
      "cell_type": "code",
      "source": [
        "# Tugas 3 Manipulasi Tipe Data Kompleks\n",
        "\n",
        "# Membuat kolom baru SalaryBonus (10% dari Salary)\n",
        "df = df.withColumn('SalaryBonus', df['Salary'] * 0.1)\n",
        "\n",
        "# Membuat kolom baru TotalCompensation (Salary + SalaryBonus)\n",
        "df = df.withColumn('TotalCompensation', df['Salary'] + df['SalaryBonus'])\n",
        "\n",
        "# Menampilkan DataFrame hasil manipulasi\n",
        "df.show()"
      ],
      "metadata": {
        "colab": {
          "base_uri": "https://localhost:8080/"
        },
        "id": "ZeENY4wpzEQo",
        "outputId": "0100e976-3ef8-4fb6-b2c4-f4d78efb02af"
      },
      "execution_count": null,
      "outputs": [
        {
          "output_type": "stream",
          "name": "stdout",
          "text": [
            "+------------+--------------+------+-----------+-----------------+\n",
            "|EmployeeName|    Department|Salary|SalaryBonus|TotalCompensation|\n",
            "+------------+--------------+------+-----------+-----------------+\n",
            "|    Septiana|      Direktur| 15000|     1500.0|          16500.0|\n",
            "|       Diyah|       Manajer| 10000|     1000.0|          11000.0|\n",
            "|         Ayu|Wakil Direktur| 12000|     1200.0|          13200.0|\n",
            "|   Wulandari|    Sekretaris|  9000|      900.0|           9900.0|\n",
            "+------------+--------------+------+-----------+-----------------+\n",
            "\n"
          ]
        }
      ]
    },
    {
      "cell_type": "code",
      "source": [
        "# Tugas 4 Window Function\n",
        "from pyspark.sql.window import Window\n",
        "from pyspark.sql import functions as F\n",
        "\n",
        "# WindowSpec data dibagi per Department dan diurutkan berdasarkan Salary\n",
        "windowSpec = Window.partitionBy(\"Department\").orderBy(\"Salary\")\n",
        "\n",
        "# Menambahkan kolom Ranking berdasarkan gaji tiap Department\n",
        "df_rank = df.withColumn(\"Rank\", F.rank().over(windowSpec))\n",
        "\n",
        "# Menambahkan kolom Running Total (akumulasi Salary per Department)\n",
        "df_running = df_rank.withColumn(\"RunningTotal\", F.sum(\"Salary\").over(windowSpec.rowsBetween(Window.unboundedPreceding, Window.currentRow)))\n",
        "\n",
        "# Menampilkan hasil akhir\n",
        "df_running.show()"
      ],
      "metadata": {
        "colab": {
          "base_uri": "https://localhost:8080/"
        },
        "id": "1Bpf5DTLzN9f",
        "outputId": "9f99c34e-b226-4f23-f9fd-48948314e4ab"
      },
      "execution_count": null,
      "outputs": [
        {
          "output_type": "stream",
          "name": "stdout",
          "text": [
            "+------------+--------------+------+-----------+-----------------+----+------------+\n",
            "|EmployeeName|    Department|Salary|SalaryBonus|TotalCompensation|Rank|RunningTotal|\n",
            "+------------+--------------+------+-----------+-----------------+----+------------+\n",
            "|    Septiana|      Direktur| 15000|     1500.0|          16500.0|   1|       15000|\n",
            "|       Diyah|       Manajer| 10000|     1000.0|          11000.0|   1|       10000|\n",
            "|   Wulandari|    Sekretaris|  9000|      900.0|           9900.0|   1|        9000|\n",
            "|         Ayu|Wakil Direktur| 12000|     1200.0|          13200.0|   1|       12000|\n",
            "+------------+--------------+------+-----------+-----------------+----+------------+\n",
            "\n"
          ]
        }
      ]
    },
    {
      "cell_type": "code",
      "source": [
        "# Tugas 5\n",
        "# Unduh dataset dari Kaggle\n",
        "import kagglehub\n",
        "\n",
        "# Download latest version\n",
        "path = kagglehub.dataset_download(\"pavansubhasht/ibm-hr-analytics-attrition-dataset\")\n",
        "\n",
        "print(\"Path to dataset files:\", path)"
      ],
      "metadata": {
        "colab": {
          "base_uri": "https://localhost:8080/"
        },
        "id": "olDqrpmfIIQv",
        "outputId": "d12c507a-9ccd-4827-c688-80d857827daa"
      },
      "execution_count": 2,
      "outputs": [
        {
          "output_type": "stream",
          "name": "stdout",
          "text": [
            "Using Colab cache for faster access to the 'ibm-hr-analytics-attrition-dataset' dataset.\n",
            "Path to dataset files: /kaggle/input/ibm-hr-analytics-attrition-dataset\n"
          ]
        }
      ]
    },
    {
      "cell_type": "code",
      "source": [
        "# Tugas 5\n",
        "# Import Library\n",
        "from pyspark.sql import SparkSession\n",
        "from pyspark.sql import functions as F\n",
        "from pyspark.sql.window import Window\n",
        "\n",
        "# Membuat SparkSession\n",
        "spark = SparkSession.builder.appName(\"Tugas5_BigData\").getOrCreate()\n",
        "\n",
        "# Load Dataset dari Kaggle (CSV)\n",
        "path = \"/kaggle/input/ibm-hr-analytics-attrition-dataset/WA_Fn-UseC_-HR-Employee-Attrition.csv\"\n",
        "df = spark.read.csv(path, header=True, inferSchema=True)\n",
        "\n",
        "# Eksplorasi Awal\n",
        "print(\"Jumlah baris:\", df.count())\n",
        "print(\"Jumlah kolom:\", len(df.columns))\n",
        "df.printSchema()\n",
        "df.show(5)\n",
        "\n",
        "# Operasi Dasar & Manipulasi Data\n",
        "# Rata-rata gaji\n",
        "df.select(F.avg(\"MonthlyIncome\").alias(\"RataRataGaji\")).show()\n",
        "\n",
        "# Gaji tertinggi dan terendah\n",
        "df.select(\n",
        "    F.max(\"MonthlyIncome\").alias(\"GajiTertinggi\"),\n",
        "    F.min(\"MonthlyIncome\").alias(\"GajiTerendah\")\n",
        ").show()\n",
        "\n",
        "# Total gaji per Department\n",
        "df.groupBy(\"Department\").sum(\"MonthlyIncome\").alias(\"TotalGaji\").show()\n",
        "\n",
        "# Rata-rata gaji per JobRole\n",
        "df.groupBy(\"JobRole\").avg(\"MonthlyIncome\").alias(\"RataGaji\").show()\n",
        "\n",
        "# Window Function--Ranking Gaji per Department\n",
        "windowSpec = Window.partitionBy(\"Department\").orderBy(F.desc(\"MonthlyIncome\"))\n",
        "df_rank = df.withColumn(\"Rank\", F.rank().over(windowSpec))\n",
        "\n",
        "df_rank.select(\"EmployeeNumber\", \"Department\", \"MonthlyIncome\", \"Rank\").show(10)"
      ],
      "metadata": {
        "colab": {
          "base_uri": "https://localhost:8080/"
        },
        "id": "2SgEpd-JIfjF",
        "outputId": "73c48de9-eec1-49fb-fbad-7b70e87dafa1"
      },
      "execution_count": 4,
      "outputs": [
        {
          "output_type": "stream",
          "name": "stdout",
          "text": [
            "Jumlah baris: 1470\n",
            "Jumlah kolom: 35\n",
            "root\n",
            " |-- Age: integer (nullable = true)\n",
            " |-- Attrition: string (nullable = true)\n",
            " |-- BusinessTravel: string (nullable = true)\n",
            " |-- DailyRate: integer (nullable = true)\n",
            " |-- Department: string (nullable = true)\n",
            " |-- DistanceFromHome: integer (nullable = true)\n",
            " |-- Education: integer (nullable = true)\n",
            " |-- EducationField: string (nullable = true)\n",
            " |-- EmployeeCount: integer (nullable = true)\n",
            " |-- EmployeeNumber: integer (nullable = true)\n",
            " |-- EnvironmentSatisfaction: integer (nullable = true)\n",
            " |-- Gender: string (nullable = true)\n",
            " |-- HourlyRate: integer (nullable = true)\n",
            " |-- JobInvolvement: integer (nullable = true)\n",
            " |-- JobLevel: integer (nullable = true)\n",
            " |-- JobRole: string (nullable = true)\n",
            " |-- JobSatisfaction: integer (nullable = true)\n",
            " |-- MaritalStatus: string (nullable = true)\n",
            " |-- MonthlyIncome: integer (nullable = true)\n",
            " |-- MonthlyRate: integer (nullable = true)\n",
            " |-- NumCompaniesWorked: integer (nullable = true)\n",
            " |-- Over18: string (nullable = true)\n",
            " |-- OverTime: string (nullable = true)\n",
            " |-- PercentSalaryHike: integer (nullable = true)\n",
            " |-- PerformanceRating: integer (nullable = true)\n",
            " |-- RelationshipSatisfaction: integer (nullable = true)\n",
            " |-- StandardHours: integer (nullable = true)\n",
            " |-- StockOptionLevel: integer (nullable = true)\n",
            " |-- TotalWorkingYears: integer (nullable = true)\n",
            " |-- TrainingTimesLastYear: integer (nullable = true)\n",
            " |-- WorkLifeBalance: integer (nullable = true)\n",
            " |-- YearsAtCompany: integer (nullable = true)\n",
            " |-- YearsInCurrentRole: integer (nullable = true)\n",
            " |-- YearsSinceLastPromotion: integer (nullable = true)\n",
            " |-- YearsWithCurrManager: integer (nullable = true)\n",
            "\n",
            "+---+---------+-----------------+---------+--------------------+----------------+---------+--------------+-------------+--------------+-----------------------+------+----------+--------------+--------+--------------------+---------------+-------------+-------------+-----------+------------------+------+--------+-----------------+-----------------+------------------------+-------------+----------------+-----------------+---------------------+---------------+--------------+------------------+-----------------------+--------------------+\n",
            "|Age|Attrition|   BusinessTravel|DailyRate|          Department|DistanceFromHome|Education|EducationField|EmployeeCount|EmployeeNumber|EnvironmentSatisfaction|Gender|HourlyRate|JobInvolvement|JobLevel|             JobRole|JobSatisfaction|MaritalStatus|MonthlyIncome|MonthlyRate|NumCompaniesWorked|Over18|OverTime|PercentSalaryHike|PerformanceRating|RelationshipSatisfaction|StandardHours|StockOptionLevel|TotalWorkingYears|TrainingTimesLastYear|WorkLifeBalance|YearsAtCompany|YearsInCurrentRole|YearsSinceLastPromotion|YearsWithCurrManager|\n",
            "+---+---------+-----------------+---------+--------------------+----------------+---------+--------------+-------------+--------------+-----------------------+------+----------+--------------+--------+--------------------+---------------+-------------+-------------+-----------+------------------+------+--------+-----------------+-----------------+------------------------+-------------+----------------+-----------------+---------------------+---------------+--------------+------------------+-----------------------+--------------------+\n",
            "| 41|      Yes|    Travel_Rarely|     1102|               Sales|               1|        2| Life Sciences|            1|             1|                      2|Female|        94|             3|       2|     Sales Executive|              4|       Single|         5993|      19479|                 8|     Y|     Yes|               11|                3|                       1|           80|               0|                8|                    0|              1|             6|                 4|                      0|                   5|\n",
            "| 49|       No|Travel_Frequently|      279|Research & Develo...|               8|        1| Life Sciences|            1|             2|                      3|  Male|        61|             2|       2|  Research Scientist|              2|      Married|         5130|      24907|                 1|     Y|      No|               23|                4|                       4|           80|               1|               10|                    3|              3|            10|                 7|                      1|                   7|\n",
            "| 37|      Yes|    Travel_Rarely|     1373|Research & Develo...|               2|        2|         Other|            1|             4|                      4|  Male|        92|             2|       1|Laboratory Techni...|              3|       Single|         2090|       2396|                 6|     Y|     Yes|               15|                3|                       2|           80|               0|                7|                    3|              3|             0|                 0|                      0|                   0|\n",
            "| 33|       No|Travel_Frequently|     1392|Research & Develo...|               3|        4| Life Sciences|            1|             5|                      4|Female|        56|             3|       1|  Research Scientist|              3|      Married|         2909|      23159|                 1|     Y|     Yes|               11|                3|                       3|           80|               0|                8|                    3|              3|             8|                 7|                      3|                   0|\n",
            "| 27|       No|    Travel_Rarely|      591|Research & Develo...|               2|        1|       Medical|            1|             7|                      1|  Male|        40|             3|       1|Laboratory Techni...|              2|      Married|         3468|      16632|                 9|     Y|      No|               12|                3|                       4|           80|               1|                6|                    3|              3|             2|                 2|                      2|                   2|\n",
            "+---+---------+-----------------+---------+--------------------+----------------+---------+--------------+-------------+--------------+-----------------------+------+----------+--------------+--------+--------------------+---------------+-------------+-------------+-----------+------------------+------+--------+-----------------+-----------------+------------------------+-------------+----------------+-----------------+---------------------+---------------+--------------+------------------+-----------------------+--------------------+\n",
            "only showing top 5 rows\n",
            "\n",
            "+-----------------+\n",
            "|     RataRataGaji|\n",
            "+-----------------+\n",
            "|6502.931292517007|\n",
            "+-----------------+\n",
            "\n",
            "+-------------+------------+\n",
            "|GajiTertinggi|GajiTerendah|\n",
            "+-------------+------------+\n",
            "|        19999|        1009|\n",
            "+-------------+------------+\n",
            "\n",
            "+--------------------+------------------+\n",
            "|          Department|sum(MonthlyIncome)|\n",
            "+--------------------+------------------+\n",
            "|               Sales|           3103791|\n",
            "|Research & Develo...|           6036284|\n",
            "|     Human Resources|            419234|\n",
            "+--------------------+------------------+\n",
            "\n",
            "+--------------------+------------------+\n",
            "|             JobRole|avg(MonthlyIncome)|\n",
            "+--------------------+------------------+\n",
            "|     Sales Executive|6924.2791411042945|\n",
            "|Manufacturing Dir...| 7295.137931034483|\n",
            "|Laboratory Techni...| 3237.169884169884|\n",
            "|Sales Representative|            2626.0|\n",
            "|Healthcare Repres...| 7528.763358778626|\n",
            "|  Research Scientist| 3239.972602739726|\n",
            "|             Manager|17181.676470588234|\n",
            "|   Research Director|          16033.55|\n",
            "|     Human Resources|           4235.75|\n",
            "+--------------------+------------------+\n",
            "\n",
            "+--------------+---------------+-------------+----+\n",
            "|EmployeeNumber|     Department|MonthlyIncome|Rank|\n",
            "+--------------+---------------+-------------+----+\n",
            "|          1338|Human Resources|        19717|   1|\n",
            "|          1625|Human Resources|        19658|   2|\n",
            "|          1973|Human Resources|        19636|   3|\n",
            "|           734|Human Resources|        19189|   4|\n",
            "|           731|Human Resources|        19141|   5|\n",
            "|           140|Human Resources|        18844|   6|\n",
            "|           644|Human Resources|        18200|   7|\n",
            "|           148|Human Resources|        17328|   8|\n",
            "|          1408|Human Resources|        16799|   9|\n",
            "|          1550|Human Resources|        16437|  10|\n",
            "+--------------+---------------+-------------+----+\n",
            "only showing top 10 rows\n",
            "\n"
          ]
        }
      ]
    }
  ]
}